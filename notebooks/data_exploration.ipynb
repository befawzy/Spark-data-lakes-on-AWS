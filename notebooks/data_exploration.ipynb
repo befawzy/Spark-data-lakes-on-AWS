{
 "cells": [
  {
   "cell_type": "code",
   "execution_count": 7,
   "metadata": {},
   "outputs": [],
   "source": [
    "import os\n",
    "from pyspark.sql import SparkSession\n",
    "spark = SparkSession.builder.appName(\"data_exploration\").getOrCreate()"
   ]
  },
  {
   "cell_type": "code",
   "execution_count": 8,
   "metadata": {},
   "outputs": [],
   "source": [
    "PARENT_DATA_PATH = \"starter/\"\n",
    "customer_landing_df = spark.read.json(PARENT_DATA_PATH + \"customer/landing/\")\n",
    "accelerometer_landing_df = spark.read.json(PARENT_DATA_PATH + \"accelerometer/landing\")\n",
    "step_trainer_landing_df = spark.read.json(PARENT_DATA_PATH + \"step_trainer/landing\")"
   ]
  },
  {
   "cell_type": "code",
   "execution_count": null,
   "metadata": {},
   "outputs": [],
   "source": []
  },
  {
   "cell_type": "code",
   "execution_count": 9,
   "metadata": {},
   "outputs": [
    {
     "name": "stdout",
     "output_type": "stream",
     "text": [
      "5\n",
      "['timestamp', 'user', 'x', 'y', 'z']\n"
     ]
    }
   ],
   "source": [
    "print(len(accelerometer_landing_df.columns))\n",
    "print(accelerometer_landing_df.columns)\n"
   ]
  },
  {
   "cell_type": "code",
   "execution_count": 10,
   "metadata": {},
   "outputs": [],
   "source": [
    "\n",
    "customer_data_count = spark.read.json(PARENT_DATA_PATH + \"customer/landing/\").count()\n",
    "assert customer_data_count == 956"
   ]
  },
  {
   "cell_type": "code",
   "execution_count": 11,
   "metadata": {},
   "outputs": [],
   "source": [
    "accelerometer_data_count = spark.read.json(PARENT_DATA_PATH + \"accelerometer/landing\").count()\n",
    "assert accelerometer_data_count == 81273\n"
   ]
  },
  {
   "cell_type": "code",
   "execution_count": 12,
   "metadata": {},
   "outputs": [],
   "source": [
    "step_trainer_count = spark.read.json(PARENT_DATA_PATH + \"step_trainer/landing\").count()\n",
    "# print(step_trainer_count)\n",
    "assert step_trainer_count == 28680"
   ]
  },
  {
   "cell_type": "markdown",
   "metadata": {},
   "source": [
    "### define customer curated"
   ]
  },
  {
   "cell_type": "code",
   "execution_count": 18,
   "metadata": {},
   "outputs": [],
   "source": [
    "customer_trusted_df = customer_landing_df.dropna(subset=[\"shareWithResearchAsOfDate\"])\n",
    "customer_trusted_df.write.json(PARENT_DATA_PATH + \"customer/trusted/\", 'overwrite')\n",
    "assert customer_trusted_df.count() == 482"
   ]
  },
  {
   "cell_type": "code",
   "execution_count": 23,
   "metadata": {},
   "outputs": [
    {
     "name": "stdout",
     "output_type": "stream",
     "text": [
      "root\n",
      " |-- birthDay: string (nullable = true)\n",
      " |-- customerName: string (nullable = true)\n",
      " |-- email: string (nullable = true)\n",
      " |-- lastUpdateDate: long (nullable = true)\n",
      " |-- phone: string (nullable = true)\n",
      " |-- registrationDate: long (nullable = true)\n",
      " |-- serialNumber: string (nullable = true)\n",
      " |-- shareWithFriendsAsOfDate: long (nullable = true)\n",
      " |-- shareWithPublicAsOfDate: long (nullable = true)\n",
      " |-- shareWithResearchAsOfDate: long (nullable = true)\n",
      "\n"
     ]
    }
   ],
   "source": [
    "# customer_trusted_df = spark.read.json(PARENT_DATA_PATH + 'customer/trusted/')\n",
    "# customer_trusted_df.count()\n",
    "customer_landing_df.printSchema()"
   ]
  },
  {
   "cell_type": "code",
   "execution_count": 24,
   "metadata": {},
   "outputs": [],
   "source": [
    "accelerometer_trusted_cols = ['user','timestamp', 'x', 'y', 'z']\n",
    "\n",
    "customer_accelerometer_trusted_df = customer_trusted_df.withColumnRenamed(\"email\", \"user\")\\\n",
    "    .join(accelerometer_landing_df, on=\"user\", how=\"left\")\n",
    "\n",
    "\n",
    "accelerometer_trusted_df = customer_accelerometer_trusted_df.select(*accelerometer_trusted_cols)"
   ]
  },
  {
   "cell_type": "code",
   "execution_count": 25,
   "metadata": {},
   "outputs": [
    {
     "data": {
      "text/plain": [
       "40981"
      ]
     },
     "execution_count": 25,
     "metadata": {},
     "output_type": "execute_result"
    }
   ],
   "source": [
    "accelerometer_trusted_df.count()"
   ]
  },
  {
   "cell_type": "code",
   "execution_count": 26,
   "metadata": {},
   "outputs": [],
   "source": [
    "# accelerometer_trusted_df.write.json(PARENT_DATA_PATH + \"accelerometer/trusted/\", 'overwrite')"
   ]
  },
  {
   "cell_type": "code",
   "execution_count": 28,
   "metadata": {},
   "outputs": [],
   "source": [
    "condition = customer_trusted_df.email == accelerometer_trusted_df.user "
   ]
  },
  {
   "cell_type": "code",
   "execution_count": 36,
   "metadata": {},
   "outputs": [],
   "source": [
    "accelerometer_trusted_unique_users_df = accelerometer_trusted_df.drop_duplicates(subset=[\"user\"])\n",
    "customer_curated_df = customer_trusted_df.join(accelerometer_trusted_unique_users_df, on=condition, how=\"left\")\\\n",
    ".drop(\"user\", \"x\",\"y\",\"z\",\"timestamp\")"
   ]
  },
  {
   "cell_type": "code",
   "execution_count": 40,
   "metadata": {},
   "outputs": [
    {
     "data": {
      "text/plain": [
       "482"
      ]
     },
     "execution_count": 40,
     "metadata": {},
     "output_type": "execute_result"
    }
   ],
   "source": [
    "# customer_curated_df.write.json(PARENT_DATA_PATH + \"customer/curated/\", 'overwrite')\n"
   ]
  },
  {
   "cell_type": "code",
   "execution_count": 41,
   "metadata": {},
   "outputs": [],
   "source": [
    "step_trainer_cols = [\"distanceFromObject\",\"sensorReadingTime\", \"serialNumber\"]\n",
    "step_trainer_trusted_df = customer_curated_df\\\n",
    "    .join(step_trainer_landing_df, on=\"serialNumber\", how=\"inner\")\\\n",
    "    .select(*step_trainer_cols)\n",
    "assert step_trainer_trusted_df.count() == 14460"
   ]
  },
  {
   "cell_type": "code",
   "execution_count": 44,
   "metadata": {},
   "outputs": [],
   "source": [
    "step_trainer_trusted_df.write.json(PARENT_DATA_PATH + \"step_trainer/trusted/\", 'overwrite')"
   ]
  },
  {
   "cell_type": "code",
   "execution_count": 27,
   "metadata": {},
   "outputs": [],
   "source": [
    "assert accelerometer_trusted_df.count()==40981"
   ]
  },
  {
   "cell_type": "code",
   "execution_count": 46,
   "metadata": {},
   "outputs": [
    {
     "data": {
      "text/plain": [
       "['user', 'timestamp', 'x', 'y', 'z']"
      ]
     },
     "execution_count": 46,
     "metadata": {},
     "output_type": "execute_result"
    }
   ],
   "source": [
    "accelerometer_trusted_df.columns"
   ]
  },
  {
   "cell_type": "code",
   "execution_count": 48,
   "metadata": {},
   "outputs": [
    {
     "name": "stdout",
     "output_type": "stream",
     "text": [
      "+------------------+-----------------+--------------------+--------------------+-------------+----+----+----+\n",
      "|distanceFromObject|sensorReadingTime|        serialNumber|                user|    timestamp|   x|   y|   z|\n",
      "+------------------+-----------------+--------------------+--------------------+-------------+----+----+----+\n",
      "|               282|    1655564471084|c007feb7-dc9b-423...|Danny.Phillips@te...|1655564471084|-1.0| 0.0|-1.0|\n",
      "|               293|    1655564418085|f6963c38-0052-43a...|Suresh.Spencer@te...|1655564418085| 1.0| 0.0|-1.0|\n",
      "|               236|    1655564421347|72ec6b97-0bde-484...|Bobby.Jefferson@t...|1655564421347| 0.0| 1.0|-1.0|\n",
      "|               236|    1655564421347|72ec6b97-0bde-484...|Bobby.Jefferson@t...|1655564421347|-1.0| 0.0| 0.0|\n",
      "|               253|    1655564145175|9cebd63f-aa88-49b...|David.Khatib@test...|1655564145175| 1.0| 0.0|-1.0|\n",
      "|               259|    1655564473699|44a10dbd-444c-427...|Jacob.Anderson@te...|1655564473699| 0.0| 1.0| 0.0|\n",
      "|               292|    1655564163937|62dd0c82-b8b9-49a...|Christina.Clark@t...|1655564163937|-1.0|-1.0| 0.0|\n",
      "|               225|    1655564454118|d9cce27f-ad8f-42d...|Jason.Howard@test...|1655564454118| 0.0|-1.0| 0.0|\n",
      "|               281|    1655564502618|17b87fb4-029c-4a7...|Ben.Clayton@test.com|1655564502618|-1.0| 0.0|-1.0|\n",
      "|               279|    1655564378556|3f5e02d7-6634-43e...|John.Anderson@tes...|1655564378556| 1.0| 0.0|-1.0|\n",
      "|               215|    1655564143196|84f9e3ba-37e7-45c...|  Dan.Ahmed@test.com|1655564143196|-1.0| 1.0|-1.0|\n",
      "|               218|    1655564494215|fed501b8-0493-4e3...|Eric.Anderson@tes...|1655564494215| 1.0| 1.0|-1.0|\n",
      "|               208|    1655564471406|2c437417-d14d-489...|Craig.Mitra@test.com|1655564471406| 1.0| 1.0|-1.0|\n",
      "|               276|    1655564126035|abe1cdc7-94f5-4e1...|Lyn.Jackson@test.com|1655564126035|-1.0|-1.0|-1.0|\n",
      "|               276|    1655564126035|abe1cdc7-94f5-4e1...|Lyn.Jackson@test.com|1655564126035| 1.0| 1.0| 0.0|\n",
      "|               207|    1655564440048|a05d2637-8da9-49f...|Danny.Jones@test.com|1655564440048| 0.0| 1.0| 0.0|\n",
      "|               214|    1655564427646|4c554d79-0180-43d...| Frank.Huey@test.com|1655564427646| 1.0|-1.0| 0.0|\n",
      "|               292|    1655564431582|87c5cb83-9de6-49d...|Spencer.Fibonnaci...|1655564431582| 1.0| 0.0|-1.0|\n",
      "|               253|    1655564145175|9cebd63f-aa88-49b...|David.Khatib@test...|1655564145175| 0.0| 0.0|-1.0|\n",
      "|               227|    1655564443246|a053743c-f2ab-439...|Chris.Howard@test...|1655564443246| 0.0|-1.0|-1.0|\n",
      "+------------------+-----------------+--------------------+--------------------+-------------+----+----+----+\n",
      "only showing top 20 rows\n",
      "\n"
     ]
    }
   ],
   "source": [
    "condition_step_trainer_accelerometer = accelerometer_trusted_df.timestamp == step_trainer_trusted_df.sensorReadingTime\n",
    "machine_learning_curated=step_trainer_trusted_df.join(accelerometer_trusted_df, on=condition_step_trainer_accelerometer, how=\"inner\")\n",
    "machine_learning_curated.show()"
   ]
  },
  {
   "cell_type": "code",
   "execution_count": null,
   "metadata": {},
   "outputs": [],
   "source": [
    "machine_learning_curated=0"
   ]
  }
 ],
 "metadata": {
  "kernelspec": {
   "display_name": "DE_nanodegree",
   "language": "python",
   "name": "python3"
  },
  "language_info": {
   "codemirror_mode": {
    "name": "ipython",
    "version": 3
   },
   "file_extension": ".py",
   "mimetype": "text/x-python",
   "name": "python",
   "nbconvert_exporter": "python",
   "pygments_lexer": "ipython3",
   "version": "3.11.5"
  }
 },
 "nbformat": 4,
 "nbformat_minor": 2
}
